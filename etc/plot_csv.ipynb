{
 "cells": [
  {
   "cell_type": "code",
   "execution_count": null,
   "metadata": {},
   "outputs": [],
   "source": [
    "import os\n",
    "import glob\n",
    "import pandas as pd\n",
    "import numpy as np\n",
    "import plotly.express as px"
   ]
  },
  {
   "cell_type": "code",
   "execution_count": null,
   "metadata": {
    "scrolled": false
   },
   "outputs": [],
   "source": [
    "def read_csvs(paths):\n",
    "    dfs = []\n",
    "    \n",
    "    for path in paths:\n",
    "        df = pd.read_csv(path, sep=\";\", parse_dates=[\"Time\"])\n",
    "        sdr = path.split(\".\")[-2].split(\"-\")[-1]\n",
    "        df[\"sdr\"] = sdr\n",
    "        dfs.append(df)\n",
    "    \n",
    "    df = pd.concat(dfs)\n",
    "    \n",
    "    return df\n",
    "    \n",
    "# open and read most recent 4 csvs\n",
    "ls = glob.glob('/data/*/radiotracking/*.csv')\n",
    "ls.sort(key=os.path.getmtime)\n",
    "df = read_csvs(ls[-4:])"
   ]
  },
  {
   "cell_type": "code",
   "execution_count": null,
   "metadata": {},
   "outputs": [],
   "source": [
    "# add pause column\n",
    "df = df.sort_values(by=['sdr', 'Frequency (MHz)', 'Time'])\n",
    "df['Pause (s)'] = df.groupby(['sdr', 'Frequency (MHz)'])['Time'].diff().fillna(0)"
   ]
  },
  {
   "cell_type": "code",
   "execution_count": null,
   "metadata": {},
   "outputs": [],
   "source": [
    "px.scatter(df, x=\"Time\", y=\"avg (dBW)\", color=\"sdr\")"
   ]
  }
 ],
 "metadata": {
  "kernelspec": {
   "display_name": "Python 3",
   "language": "python",
   "name": "python3"
  },
  "language_info": {
   "codemirror_mode": {
    "name": "ipython",
    "version": 3
   },
   "file_extension": ".py",
   "mimetype": "text/x-python",
   "name": "python",
   "nbconvert_exporter": "python",
   "pygments_lexer": "ipython3",
   "version": "3.8.2"
  }
 },
 "nbformat": 4,
 "nbformat_minor": 4
}
