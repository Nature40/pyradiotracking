{
 "cells": [
  {
   "cell_type": "code",
   "execution_count": 1,
   "metadata": {},
   "outputs": [],
   "source": [
    "%matplotlib widget\n",
    "\n",
    "import scipy.signal\n",
    "import os\n",
    "import glob\n",
    "import pandas\n",
    "import pickle\n",
    "import numpy as np\n",
    "import time\n",
    "\n",
    "from matplotlib import pyplot as plt"
   ]
  },
  {
   "cell_type": "code",
   "execution_count": 33,
   "metadata": {},
   "outputs": [
    {
     "data": {
      "text/html": [
       "<div>\n",
       "<style scoped>\n",
       "    .dataframe tbody tr th:only-of-type {\n",
       "        vertical-align: middle;\n",
       "    }\n",
       "\n",
       "    .dataframe tbody tr th {\n",
       "        vertical-align: top;\n",
       "    }\n",
       "\n",
       "    .dataframe thead th {\n",
       "        text-align: right;\n",
       "    }\n",
       "</style>\n",
       "<table border=\"1\" class=\"dataframe\">\n",
       "  <thead>\n",
       "    <tr style=\"text-align: right;\">\n",
       "      <th></th>\n",
       "      <th>Frequency (MHz)</th>\n",
       "      <th>Duration (ms)</th>\n",
       "      <th>min (dBW)</th>\n",
       "      <th>max (dBW)</th>\n",
       "      <th>avg (dBW)</th>\n",
       "      <th>std (dB)</th>\n",
       "      <th>snr (dB)</th>\n",
       "    </tr>\n",
       "    <tr>\n",
       "      <th>Time</th>\n",
       "      <th></th>\n",
       "      <th></th>\n",
       "      <th></th>\n",
       "      <th></th>\n",
       "      <th></th>\n",
       "      <th></th>\n",
       "      <th></th>\n",
       "    </tr>\n",
       "  </thead>\n",
       "  <tbody>\n",
       "    <tr>\n",
       "      <th>2021-01-12 12:04:22.705597</th>\n",
       "      <td>150.001</td>\n",
       "      <td>2.7125</td>\n",
       "      <td>-119.482604</td>\n",
       "      <td>-74.020520</td>\n",
       "      <td>-82.116605</td>\n",
       "      <td>7.659543</td>\n",
       "      <td>0.958183</td>\n",
       "    </tr>\n",
       "    <tr>\n",
       "      <th>2021-01-12 12:04:22.732722</th>\n",
       "      <td>150.001</td>\n",
       "      <td>3.9375</td>\n",
       "      <td>-90.594201</td>\n",
       "      <td>-73.551929</td>\n",
       "      <td>-81.054786</td>\n",
       "      <td>3.890653</td>\n",
       "      <td>2.020002</td>\n",
       "    </tr>\n",
       "    <tr>\n",
       "      <th>2021-01-12 12:04:22.772097</th>\n",
       "      <td>150.001</td>\n",
       "      <td>2.1000</td>\n",
       "      <td>-94.053942</td>\n",
       "      <td>-73.098529</td>\n",
       "      <td>-82.035530</td>\n",
       "      <td>5.338071</td>\n",
       "      <td>1.039258</td>\n",
       "    </tr>\n",
       "    <tr>\n",
       "      <th>2021-01-12 12:04:23.039085</th>\n",
       "      <td>150.001</td>\n",
       "      <td>3.5000</td>\n",
       "      <td>-91.645172</td>\n",
       "      <td>-73.605847</td>\n",
       "      <td>-80.903331</td>\n",
       "      <td>3.739377</td>\n",
       "      <td>0.298784</td>\n",
       "    </tr>\n",
       "    <tr>\n",
       "      <th>2021-01-12 12:04:23.074085</th>\n",
       "      <td>150.001</td>\n",
       "      <td>3.9375</td>\n",
       "      <td>-93.193035</td>\n",
       "      <td>-74.376928</td>\n",
       "      <td>-80.263661</td>\n",
       "      <td>3.706907</td>\n",
       "      <td>0.938454</td>\n",
       "    </tr>\n",
       "    <tr>\n",
       "      <th>...</th>\n",
       "      <td>...</td>\n",
       "      <td>...</td>\n",
       "      <td>...</td>\n",
       "      <td>...</td>\n",
       "      <td>...</td>\n",
       "      <td>...</td>\n",
       "      <td>...</td>\n",
       "    </tr>\n",
       "    <tr>\n",
       "      <th>2021-01-12 12:04:58.902526</th>\n",
       "      <td>150.202</td>\n",
       "      <td>0.9625</td>\n",
       "      <td>-95.367889</td>\n",
       "      <td>-30.593550</td>\n",
       "      <td>-43.176212</td>\n",
       "      <td>21.077159</td>\n",
       "      <td>44.217362</td>\n",
       "    </tr>\n",
       "    <tr>\n",
       "      <th>2021-01-12 12:04:58.969026</th>\n",
       "      <td>150.000</td>\n",
       "      <td>2.0125</td>\n",
       "      <td>-92.641145</td>\n",
       "      <td>-75.552939</td>\n",
       "      <td>-83.629404</td>\n",
       "      <td>4.283713</td>\n",
       "      <td>2.399797</td>\n",
       "    </tr>\n",
       "    <tr>\n",
       "      <th>2021-01-12 12:04:58.944526</th>\n",
       "      <td>150.069</td>\n",
       "      <td>1.2250</td>\n",
       "      <td>-92.393533</td>\n",
       "      <td>-77.507187</td>\n",
       "      <td>-82.482503</td>\n",
       "      <td>4.209358</td>\n",
       "      <td>0.667464</td>\n",
       "    </tr>\n",
       "    <tr>\n",
       "      <th>2021-01-12 12:04:58.958526</th>\n",
       "      <td>150.069</td>\n",
       "      <td>1.0500</td>\n",
       "      <td>-91.363002</td>\n",
       "      <td>-75.155008</td>\n",
       "      <td>-81.235566</td>\n",
       "      <td>4.274597</td>\n",
       "      <td>1.914400</td>\n",
       "    </tr>\n",
       "    <tr>\n",
       "      <th>2021-01-12 12:04:58.931401</th>\n",
       "      <td>150.074</td>\n",
       "      <td>1.3125</td>\n",
       "      <td>-95.678004</td>\n",
       "      <td>-77.229818</td>\n",
       "      <td>-84.818283</td>\n",
       "      <td>3.870374</td>\n",
       "      <td>1.501416</td>\n",
       "    </tr>\n",
       "  </tbody>\n",
       "</table>\n",
       "<p>406 rows × 7 columns</p>\n",
       "</div>"
      ],
      "text/plain": [
       "                            Frequency (MHz)  Duration (ms)   min (dBW)  \\\n",
       "Time                                                                     \n",
       "2021-01-12 12:04:22.705597          150.001         2.7125 -119.482604   \n",
       "2021-01-12 12:04:22.732722          150.001         3.9375  -90.594201   \n",
       "2021-01-12 12:04:22.772097          150.001         2.1000  -94.053942   \n",
       "2021-01-12 12:04:23.039085          150.001         3.5000  -91.645172   \n",
       "2021-01-12 12:04:23.074085          150.001         3.9375  -93.193035   \n",
       "...                                     ...            ...         ...   \n",
       "2021-01-12 12:04:58.902526          150.202         0.9625  -95.367889   \n",
       "2021-01-12 12:04:58.969026          150.000         2.0125  -92.641145   \n",
       "2021-01-12 12:04:58.944526          150.069         1.2250  -92.393533   \n",
       "2021-01-12 12:04:58.958526          150.069         1.0500  -91.363002   \n",
       "2021-01-12 12:04:58.931401          150.074         1.3125  -95.678004   \n",
       "\n",
       "                            max (dBW)  avg (dBW)   std (dB)   snr (dB)  \n",
       "Time                                                                    \n",
       "2021-01-12 12:04:22.705597 -74.020520 -82.116605   7.659543   0.958183  \n",
       "2021-01-12 12:04:22.732722 -73.551929 -81.054786   3.890653   2.020002  \n",
       "2021-01-12 12:04:22.772097 -73.098529 -82.035530   5.338071   1.039258  \n",
       "2021-01-12 12:04:23.039085 -73.605847 -80.903331   3.739377   0.298784  \n",
       "2021-01-12 12:04:23.074085 -74.376928 -80.263661   3.706907   0.938454  \n",
       "...                               ...        ...        ...        ...  \n",
       "2021-01-12 12:04:58.902526 -30.593550 -43.176212  21.077159  44.217362  \n",
       "2021-01-12 12:04:58.969026 -75.552939 -83.629404   4.283713   2.399797  \n",
       "2021-01-12 12:04:58.944526 -77.507187 -82.482503   4.209358   0.667464  \n",
       "2021-01-12 12:04:58.958526 -75.155008 -81.235566   4.274597   1.914400  \n",
       "2021-01-12 12:04:58.931401 -77.229818 -84.818283   3.870374   1.501416  \n",
       "\n",
       "[406 rows x 7 columns]"
      ]
     },
     "execution_count": 33,
     "metadata": {},
     "output_type": "execute_result"
    }
   ],
   "source": [
    "def read_csv(path):\n",
    "    df = pandas.read_csv(path, sep=\";\")\n",
    "    df.Time = pandas.to_datetime(df.Time)\n",
    "    df = df.set_index('Time')\n",
    "    \n",
    "    return df\n",
    "    \n",
    "f = glob.glob('../data/*.csv')[-1]\n",
    "df = read_csv(f)\n",
    "df"
   ]
  },
  {
   "cell_type": "code",
   "execution_count": 36,
   "metadata": {},
   "outputs": [
    {
     "data": {
      "application/vnd.jupyter.widget-view+json": {
       "model_id": "092b7b1b93394c2ba847709ce21f096d",
       "version_major": 2,
       "version_minor": 0
      },
      "text/plain": [
       "Canvas(toolbar=Toolbar(toolitems=[('Home', 'Reset original view', 'home', 'home'), ('Back', 'Back to previous …"
      ]
     },
     "metadata": {},
     "output_type": "display_data"
    },
    {
     "data": {
      "application/vnd.jupyter.widget-view+json": {
       "model_id": "8b7ac9f2f8514ffdbc9a816e092c2075",
       "version_major": 2,
       "version_minor": 0
      },
      "text/plain": [
       "Canvas(toolbar=Toolbar(toolitems=[('Home', 'Reset original view', 'home', 'home'), ('Back', 'Back to previous …"
      ]
     },
     "metadata": {},
     "output_type": "display_data"
    },
    {
     "data": {
      "application/vnd.jupyter.widget-view+json": {
       "model_id": "2f5119548b1d46f884f0f212ba6ac405",
       "version_major": 2,
       "version_minor": 0
      },
      "text/plain": [
       "Canvas(toolbar=Toolbar(toolitems=[('Home', 'Reset original view', 'home', 'home'), ('Back', 'Back to previous …"
      ]
     },
     "metadata": {},
     "output_type": "display_data"
    },
    {
     "data": {
      "application/vnd.jupyter.widget-view+json": {
       "model_id": "188d59687f7d44f690ec549369211c8e",
       "version_major": 2,
       "version_minor": 0
      },
      "text/plain": [
       "Canvas(toolbar=Toolbar(toolitems=[('Home', 'Reset original view', 'home', 'home'), ('Back', 'Back to previous …"
      ]
     },
     "metadata": {},
     "output_type": "display_data"
    },
    {
     "data": {
      "application/vnd.jupyter.widget-view+json": {
       "model_id": "c975129af970492e8fd59a276c0c3e45",
       "version_major": 2,
       "version_minor": 0
      },
      "text/plain": [
       "Canvas(toolbar=Toolbar(toolitems=[('Home', 'Reset original view', 'home', 'home'), ('Back', 'Back to previous …"
      ]
     },
     "metadata": {},
     "output_type": "display_data"
    },
    {
     "data": {
      "application/vnd.jupyter.widget-view+json": {
       "model_id": "9eb036e83e864d3080018aa82db9ca24",
       "version_major": 2,
       "version_minor": 0
      },
      "text/plain": [
       "Canvas(toolbar=Toolbar(toolitems=[('Home', 'Reset original view', 'home', 'home'), ('Back', 'Back to previous …"
      ]
     },
     "metadata": {},
     "output_type": "display_data"
    },
    {
     "data": {
      "application/vnd.jupyter.widget-view+json": {
       "model_id": "ad93dac5e66542539d6c91ddce374df9",
       "version_major": 2,
       "version_minor": 0
      },
      "text/plain": [
       "Canvas(toolbar=Toolbar(toolitems=[('Home', 'Reset original view', 'home', 'home'), ('Back', 'Back to previous …"
      ]
     },
     "metadata": {},
     "output_type": "display_data"
    },
    {
     "data": {
      "application/vnd.jupyter.widget-view+json": {
       "model_id": "866056f125f1497ebc872e9dbda51722",
       "version_major": 2,
       "version_minor": 0
      },
      "text/plain": [
       "Canvas(toolbar=Toolbar(toolitems=[('Home', 'Reset original view', 'home', 'home'), ('Back', 'Back to previous …"
      ]
     },
     "metadata": {},
     "output_type": "display_data"
    },
    {
     "data": {
      "application/vnd.jupyter.widget-view+json": {
       "model_id": "8f23a59c14e04b919f9fa0e754783223",
       "version_major": 2,
       "version_minor": 0
      },
      "text/plain": [
       "Canvas(toolbar=Toolbar(toolitems=[('Home', 'Reset original view', 'home', 'home'), ('Back', 'Back to previous …"
      ]
     },
     "metadata": {},
     "output_type": "display_data"
    },
    {
     "data": {
      "application/vnd.jupyter.widget-view+json": {
       "model_id": "295a91b87be447468b148512d6e2862b",
       "version_major": 2,
       "version_minor": 0
      },
      "text/plain": [
       "Canvas(toolbar=Toolbar(toolitems=[('Home', 'Reset original view', 'home', 'home'), ('Back', 'Back to previous …"
      ]
     },
     "metadata": {},
     "output_type": "display_data"
    },
    {
     "data": {
      "application/vnd.jupyter.widget-view+json": {
       "model_id": "d7fabc48eec44de589dd1f3ce2613514",
       "version_major": 2,
       "version_minor": 0
      },
      "text/plain": [
       "Canvas(toolbar=Toolbar(toolitems=[('Home', 'Reset original view', 'home', 'home'), ('Back', 'Back to previous …"
      ]
     },
     "metadata": {},
     "output_type": "display_data"
    },
    {
     "data": {
      "application/vnd.jupyter.widget-view+json": {
       "model_id": "196f1d5d69ba48efa6d287197ed6ac70",
       "version_major": 2,
       "version_minor": 0
      },
      "text/plain": [
       "Canvas(toolbar=Toolbar(toolitems=[('Home', 'Reset original view', 'home', 'home'), ('Back', 'Back to previous …"
      ]
     },
     "metadata": {},
     "output_type": "display_data"
    },
    {
     "data": {
      "application/vnd.jupyter.widget-view+json": {
       "model_id": "de2dd0fa8c47439ab1330b2d4c3c666e",
       "version_major": 2,
       "version_minor": 0
      },
      "text/plain": [
       "Canvas(toolbar=Toolbar(toolitems=[('Home', 'Reset original view', 'home', 'home'), ('Back', 'Back to previous …"
      ]
     },
     "metadata": {},
     "output_type": "display_data"
    },
    {
     "data": {
      "application/vnd.jupyter.widget-view+json": {
       "model_id": "adab399f6fdf47ec848c702712816632",
       "version_major": 2,
       "version_minor": 0
      },
      "text/plain": [
       "Canvas(toolbar=Toolbar(toolitems=[('Home', 'Reset original view', 'home', 'home'), ('Back', 'Back to previous …"
      ]
     },
     "metadata": {},
     "output_type": "display_data"
    },
    {
     "data": {
      "application/vnd.jupyter.widget-view+json": {
       "model_id": "75202f948f47427db90139bdbcbb9099",
       "version_major": 2,
       "version_minor": 0
      },
      "text/plain": [
       "Canvas(toolbar=Toolbar(toolitems=[('Home', 'Reset original view', 'home', 'home'), ('Back', 'Back to previous …"
      ]
     },
     "metadata": {},
     "output_type": "display_data"
    },
    {
     "data": {
      "application/vnd.jupyter.widget-view+json": {
       "model_id": "522de7019bcf435ba13c65dded482088",
       "version_major": 2,
       "version_minor": 0
      },
      "text/plain": [
       "Canvas(toolbar=Toolbar(toolitems=[('Home', 'Reset original view', 'home', 'home'), ('Back', 'Back to previous …"
      ]
     },
     "metadata": {},
     "output_type": "display_data"
    },
    {
     "data": {
      "application/vnd.jupyter.widget-view+json": {
       "model_id": "b071b560896c4386a8bc85fba580de76",
       "version_major": 2,
       "version_minor": 0
      },
      "text/plain": [
       "Canvas(toolbar=Toolbar(toolitems=[('Home', 'Reset original view', 'home', 'home'), ('Back', 'Back to previous …"
      ]
     },
     "metadata": {},
     "output_type": "display_data"
    },
    {
     "data": {
      "application/vnd.jupyter.widget-view+json": {
       "model_id": "02e03c81eca5488c8fca107159e46731",
       "version_major": 2,
       "version_minor": 0
      },
      "text/plain": [
       "Canvas(toolbar=Toolbar(toolitems=[('Home', 'Reset original view', 'home', 'home'), ('Back', 'Back to previous …"
      ]
     },
     "metadata": {},
     "output_type": "display_data"
    },
    {
     "data": {
      "application/vnd.jupyter.widget-view+json": {
       "model_id": "e52107e8ec924bda8c9c5ad4fbb4c47b",
       "version_major": 2,
       "version_minor": 0
      },
      "text/plain": [
       "Canvas(toolbar=Toolbar(toolitems=[('Home', 'Reset original view', 'home', 'home'), ('Back', 'Back to previous …"
      ]
     },
     "metadata": {},
     "output_type": "display_data"
    },
    {
     "data": {
      "application/vnd.jupyter.widget-view+json": {
       "model_id": "6a3864b7eeaf4ebbbad4ea87e58b4ae5",
       "version_major": 2,
       "version_minor": 0
      },
      "text/plain": [
       "Canvas(toolbar=Toolbar(toolitems=[('Home', 'Reset original view', 'home', 'home'), ('Back', 'Back to previous …"
      ]
     },
     "metadata": {},
     "output_type": "display_data"
    },
    {
     "data": {
      "application/vnd.jupyter.widget-view+json": {
       "model_id": "83e80242ebb34714bd7fab1d528ab7dd",
       "version_major": 2,
       "version_minor": 0
      },
      "text/plain": [
       "Canvas(toolbar=Toolbar(toolitems=[('Home', 'Reset original view', 'home', 'home'), ('Back', 'Back to previous …"
      ]
     },
     "metadata": {},
     "output_type": "display_data"
    },
    {
     "data": {
      "application/vnd.jupyter.widget-view+json": {
       "model_id": "b6e11d5f31ee493e8c7b070454d5f07b",
       "version_major": 2,
       "version_minor": 0
      },
      "text/plain": [
       "Canvas(toolbar=Toolbar(toolitems=[('Home', 'Reset original view', 'home', 'home'), ('Back', 'Back to previous …"
      ]
     },
     "metadata": {},
     "output_type": "display_data"
    },
    {
     "data": {
      "application/vnd.jupyter.widget-view+json": {
       "model_id": "8f479fdfb82b4a49b429bd9b94c61553",
       "version_major": 2,
       "version_minor": 0
      },
      "text/plain": [
       "Canvas(toolbar=Toolbar(toolitems=[('Home', 'Reset original view', 'home', 'home'), ('Back', 'Back to previous …"
      ]
     },
     "metadata": {},
     "output_type": "display_data"
    },
    {
     "data": {
      "application/vnd.jupyter.widget-view+json": {
       "model_id": "61ebf3fb14a04b9da4837e09ff27ae5c",
       "version_major": 2,
       "version_minor": 0
      },
      "text/plain": [
       "Canvas(toolbar=Toolbar(toolitems=[('Home', 'Reset original view', 'home', 'home'), ('Back', 'Back to previous …"
      ]
     },
     "metadata": {},
     "output_type": "display_data"
    },
    {
     "data": {
      "application/vnd.jupyter.widget-view+json": {
       "model_id": "30cb47520436498a994fcd19c6c1c208",
       "version_major": 2,
       "version_minor": 0
      },
      "text/plain": [
       "Canvas(toolbar=Toolbar(toolitems=[('Home', 'Reset original view', 'home', 'home'), ('Back', 'Back to previous …"
      ]
     },
     "metadata": {},
     "output_type": "display_data"
    },
    {
     "data": {
      "application/vnd.jupyter.widget-view+json": {
       "model_id": "236ef4e2ba5d4ea3a3858721e2925e70",
       "version_major": 2,
       "version_minor": 0
      },
      "text/plain": [
       "Canvas(toolbar=Toolbar(toolitems=[('Home', 'Reset original view', 'home', 'home'), ('Back', 'Back to previous …"
      ]
     },
     "metadata": {},
     "output_type": "display_data"
    },
    {
     "data": {
      "application/vnd.jupyter.widget-view+json": {
       "model_id": "39394af46e9d40c39a2833eecf3d6183",
       "version_major": 2,
       "version_minor": 0
      },
      "text/plain": [
       "Canvas(toolbar=Toolbar(toolitems=[('Home', 'Reset original view', 'home', 'home'), ('Back', 'Back to previous …"
      ]
     },
     "metadata": {},
     "output_type": "display_data"
    },
    {
     "data": {
      "application/vnd.jupyter.widget-view+json": {
       "model_id": "bce804b1882a44c6b0000e568c43ddfb",
       "version_major": 2,
       "version_minor": 0
      },
      "text/plain": [
       "Canvas(toolbar=Toolbar(toolitems=[('Home', 'Reset original view', 'home', 'home'), ('Back', 'Back to previous …"
      ]
     },
     "metadata": {},
     "output_type": "display_data"
    },
    {
     "data": {
      "application/vnd.jupyter.widget-view+json": {
       "model_id": "3090dbde088044f9b950bb21f4969797",
       "version_major": 2,
       "version_minor": 0
      },
      "text/plain": [
       "Canvas(toolbar=Toolbar(toolitems=[('Home', 'Reset original view', 'home', 'home'), ('Back', 'Back to previous …"
      ]
     },
     "metadata": {},
     "output_type": "display_data"
    },
    {
     "data": {
      "application/vnd.jupyter.widget-view+json": {
       "model_id": "31da62030bbd4b2b9307879395feded0",
       "version_major": 2,
       "version_minor": 0
      },
      "text/plain": [
       "Canvas(toolbar=Toolbar(toolitems=[('Home', 'Reset original view', 'home', 'home'), ('Back', 'Back to previous …"
      ]
     },
     "metadata": {},
     "output_type": "display_data"
    },
    {
     "data": {
      "application/vnd.jupyter.widget-view+json": {
       "model_id": "cbb5a496896341d6a2eea7ffdb0d5478",
       "version_major": 2,
       "version_minor": 0
      },
      "text/plain": [
       "Canvas(toolbar=Toolbar(toolitems=[('Home', 'Reset original view', 'home', 'home'), ('Back', 'Back to previous …"
      ]
     },
     "metadata": {},
     "output_type": "display_data"
    },
    {
     "data": {
      "application/vnd.jupyter.widget-view+json": {
       "model_id": "ff1b1136da6940afb7be0daf378cac2f",
       "version_major": 2,
       "version_minor": 0
      },
      "text/plain": [
       "Canvas(toolbar=Toolbar(toolitems=[('Home', 'Reset original view', 'home', 'home'), ('Back', 'Back to previous …"
      ]
     },
     "metadata": {},
     "output_type": "display_data"
    },
    {
     "data": {
      "application/vnd.jupyter.widget-view+json": {
       "model_id": "9a8379bb6f444a9cac1bb2db0589d903",
       "version_major": 2,
       "version_minor": 0
      },
      "text/plain": [
       "Canvas(toolbar=Toolbar(toolitems=[('Home', 'Reset original view', 'home', 'home'), ('Back', 'Back to previous …"
      ]
     },
     "metadata": {},
     "output_type": "display_data"
    },
    {
     "data": {
      "application/vnd.jupyter.widget-view+json": {
       "model_id": "edcb6a00d04f436b95dc3043e9c4c88d",
       "version_major": 2,
       "version_minor": 0
      },
      "text/plain": [
       "Canvas(toolbar=Toolbar(toolitems=[('Home', 'Reset original view', 'home', 'home'), ('Back', 'Back to previous …"
      ]
     },
     "metadata": {},
     "output_type": "display_data"
    },
    {
     "data": {
      "application/vnd.jupyter.widget-view+json": {
       "model_id": "eceb79f429ac4a13aeaa9fa8047b52c0",
       "version_major": 2,
       "version_minor": 0
      },
      "text/plain": [
       "Canvas(toolbar=Toolbar(toolitems=[('Home', 'Reset original view', 'home', 'home'), ('Back', 'Back to previous …"
      ]
     },
     "metadata": {},
     "output_type": "display_data"
    },
    {
     "data": {
      "application/vnd.jupyter.widget-view+json": {
       "model_id": "79314102810c4dd9aaef0a441f2757e4",
       "version_major": 2,
       "version_minor": 0
      },
      "text/plain": [
       "Canvas(toolbar=Toolbar(toolitems=[('Home', 'Reset original view', 'home', 'home'), ('Back', 'Back to previous …"
      ]
     },
     "metadata": {},
     "output_type": "display_data"
    }
   ],
   "source": [
    "for freq, gdf in df.groupby(\"Frequency (MHz)\"):\n",
    "    gdf[\"Pause (s)\"] = gdf.index.to_series().diff().dt.total_seconds()\n",
    "    gdf.plot(y=[\"Duration (ms)\", \"max (dBW)\", \"std (dB)\", \"snr (dB)\", \"Pause (s)\"], title=freq, style='.-')"
   ]
  },
  {
   "cell_type": "code",
   "execution_count": null,
   "metadata": {},
   "outputs": [],
   "source": []
  },
  {
   "cell_type": "code",
   "execution_count": null,
   "metadata": {},
   "outputs": [],
   "source": []
  }
 ],
 "metadata": {
  "kernelspec": {
   "display_name": "Python 3",
   "language": "python",
   "name": "python3"
  },
  "language_info": {
   "codemirror_mode": {
    "name": "ipython",
    "version": 3
   },
   "file_extension": ".py",
   "mimetype": "text/x-python",
   "name": "python",
   "nbconvert_exporter": "python",
   "pygments_lexer": "ipython3",
   "version": "3.8.2"
  }
 },
 "nbformat": 4,
 "nbformat_minor": 4
}
