{
 "cells": [
  {
   "cell_type": "code",
   "execution_count": null,
   "metadata": {
    "scrolled": true
   },
   "outputs": [],
   "source": [
    "import numpy as np\n",
    "import pandas as pd\n",
    "import paho.mqtt.client\n",
    "import radiotracking\n",
    "import datetime\n",
    "\n",
    "import io\n",
    "import collections\n",
    "\n",
    "import plotly.graph_objs as go"
   ]
  },
  {
   "cell_type": "code",
   "execution_count": null,
   "metadata": {},
   "outputs": [],
   "source": [
    "# init data \n",
    "data = collections.namedtuple(\"data\", [\"df\", \"fig\", \"last_plot\"])\n",
    "data.df = pd.DataFrame(index=[], columns=[\"SDR\", *radiotracking.Signal.header])\n",
    "data.last_plot = datetime.datetime.now()"
   ]
  },
  {
   "cell_type": "code",
   "execution_count": null,
   "metadata": {
    "scrolled": false
   },
   "outputs": [],
   "source": [
    "data.fig = go.FigureWidget()\n",
    "\n",
    "data.fig.add_trace(go.Scatter(name=\"SDR 0\", mode='markers'))\n",
    "data.fig.add_trace(go.Scatter(name=\"SDR 1\", mode='markers'))\n",
    "data.fig.add_trace(go.Scatter(name=\"SDR 2\", mode='markers'))\n",
    "data.fig.add_trace(go.Scatter(name=\"SDR 3\", mode='markers'))\n",
    "\n",
    "data.fig.data[0].marker.color=\"green\"\n",
    "data.fig.data[1].marker.color=\"red\"\n",
    "data.fig.data[2].marker.color=\"orange\"\n",
    "data.fig.data[3].marker.color=\"blue\""
   ]
  },
  {
   "cell_type": "code",
   "execution_count": null,
   "metadata": {},
   "outputs": [],
   "source": [
    "def on_message(client, data, message):\n",
    "    msg_df = pd.read_csv(io.StringIO(message.payload.decode()), names=radiotracking.Signal.header, parse_dates=[\"Time\"])\n",
    "    sdr = message.topic.split(\"/\")[-1]\n",
    "    msg_df[\"SDR\"] = sdr\n",
    "    data.df = data.df.append(msg_df, ignore_index=True, sort=True)\n",
    "    \n",
    "    now = msg_df[\"Time\"].iloc[-1]\n",
    "    \n",
    "    if data.last_plot < now - datetime.timedelta(seconds=2):\n",
    "        data.last_plot = now\n",
    "        #gdf = data.df.groupby(\"SDR\").get_group(sdr)\n",
    "        for sdr, gdf in data.df.groupby(\"SDR\"):\n",
    "            data.fig.data[int(sdr)].x = gdf[\"Time\"].iloc[-20:]\n",
    "            data.fig.data[int(sdr)].y = gdf[\"avg (dBW)\"].iloc[-20:]\n",
    "\n",
    "    return msg_df"
   ]
  },
  {
   "cell_type": "code",
   "execution_count": null,
   "metadata": {
    "scrolled": false
   },
   "outputs": [],
   "source": [
    "client = paho.mqtt.client.Client(userdata=data)\n",
    "client.connect(\"localhost\")\n",
    "client.on_message = on_message\n",
    "client.subscribe(\"nature40-sensorbox-ec8331f4/radiotracking/csv/#\", qos=0)\n",
    "\n",
    "display(data.fig)\n",
    "client.loop_forever(timeout=1.0, max_packets=1, retry_first_connection=False)"
   ]
  }
 ],
 "metadata": {
  "kernelspec": {
   "display_name": "Python 3",
   "language": "python",
   "name": "python3"
  },
  "language_info": {
   "codemirror_mode": {
    "name": "ipython",
    "version": 3
   },
   "file_extension": ".py",
   "mimetype": "text/x-python",
   "name": "python",
   "nbconvert_exporter": "python",
   "pygments_lexer": "ipython3",
   "version": "3.8.2"
  }
 },
 "nbformat": 4,
 "nbformat_minor": 2
}
